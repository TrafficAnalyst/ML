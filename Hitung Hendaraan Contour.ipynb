{
 "cells": [
  {
   "cell_type": "code",
   "execution_count": 2,
   "metadata": {
    "colab": {
     "base_uri": "https://localhost:8080/",
     "height": 460
    },
    "executionInfo": {
     "elapsed": 652,
     "status": "error",
     "timestamp": 1656556987310,
     "user": {
      "displayName": "Romaita Simaibang",
      "userId": "11436884726543697109"
     },
     "user_tz": -420
    },
    "id": "3iZS8RWV_nav",
    "outputId": "8ce466ae-269f-4cb0-807c-8ae1ae3df697"
   },
   "outputs": [],
   "source": [
    "import cv2\n",
    "# from google.colab import output\n",
    "#from google.colab.patches import cv2_imshow\n",
    "import numpy as np\n",
    "from time import sleep\n",
    "\n",
    "width_min=80\n",
    "height_min=80 \n",
    "\n",
    "offset=10\n",
    "pos_line=550 \n",
    "\n",
    "delay= 600\n",
    "detec = []\n",
    "car= 0\n",
    "\n",
    "def pega_centro(x, y, w, h):\n",
    "    x1 = int(w / 2)\n",
    "    y1 = int(h / 2)\n",
    "    cx = x + x1\n",
    "    cy = y + y1\n",
    "    return cx,cy\n",
    "\n",
    "cap = cv2.VideoCapture('coba.mp4')\n",
    "subtraction = cv2.createBackgroundSubtractorMOG2()\n",
    "\n",
    "while True:\n",
    "    ret , frame1 = cap.read()\n",
    "    time = float(1/delay)\n",
    "    sleep(time) \n",
    "    \n",
    "    grey = cv2.cvtColor(frame1,cv2.COLOR_BGR2GRAY)\n",
    "    blur = cv2.GaussianBlur(grey,(3,3),5)\n",
    "    \n",
    "    img_sub = subtraction.apply(blur)\n",
    "    dilat = cv2.dilate(img_sub,np.ones((5,5)))\n",
    "    kernel = cv2.getStructuringElement(cv2.MORPH_ELLIPSE, (5, 5))\n",
    "    expand = cv2.morphologyEx (dilat, cv2. MORPH_CLOSE , kernel)\n",
    "    expand = cv2.morphologyEx (expand, cv2. MORPH_CLOSE , kernel)\n",
    "    contour,h=cv2.findContours(expand,cv2.RETR_TREE,cv2.CHAIN_APPROX_SIMPLE)\n",
    "    \n",
    "    cv2.line(frame1, (25, pos_line), (1200, pos_line), (255,127,0), 3) \n",
    "    for(i,c) in enumerate(contour):\n",
    "        (x,y,w,h) = cv2.boundingRect(c)\n",
    "        validate_outline = (w >= width_min) and (h >= height_min)\n",
    "        if not validate_outline:\n",
    "            continue\n",
    "\n",
    "        cv2.rectangle(frame1,(x,y),(x+w,y+h),(0,255,0),2)   \n",
    "        \n",
    "        center = pega_centro(x, y, w, h)\n",
    "        detec.append(center)\n",
    "        cv2.circle(frame1, center, 4, (0, 0,255), -1)\n",
    "\n",
    "        for (x,y) in detec:\n",
    "            if y<(pos_line+offset) and y>(pos_line-offset):\n",
    "                car+=1\n",
    "                cv2.line(frame1, (25, pos_line), (1200, pos_line), (0,127,255), 3)  \n",
    "                detec.remove((x,y))\n",
    "                print(\"car is detected : \"+str(car))        \n",
    "       \n",
    "    cv2.putText(frame1, \"Kendaraan Lewat : \"+str(car), (450, 70), cv2.FONT_HERSHEY_SIMPLEX, 2, (0, 0, 255),5)\n",
    "    cv2.imshow(\"Detector\",expand)\n",
    "    cv2.imshow(\"Video Original\" , frame1)\n",
    "    \n",
    "    if cv2.waitKey(1) & 0xFF == ord('q'):\n",
    "        break\n",
    "    \n",
    "cv2.destroyAllWindows()\n",
    "cap.release()"
   ]
  },
  {
   "cell_type": "code",
   "execution_count": null,
   "metadata": {
    "id": "WXMsHY8b_nbA"
   },
   "outputs": [],
   "source": []
  }
 ],
 "metadata": {
  "colab": {
   "collapsed_sections": [],
   "provenance": []
  },
  "kernelspec": {
   "display_name": "Python 3 (ipykernel)",
   "language": "python",
   "name": "python3"
  },
  "language_info": {
   "codemirror_mode": {
    "name": "ipython",
    "version": 3
   },
   "file_extension": ".py",
   "mimetype": "text/x-python",
   "name": "python",
   "nbconvert_exporter": "python",
   "pygments_lexer": "ipython3",
   "version": "3.9.0rc1"
  }
 },
 "nbformat": 4,
 "nbformat_minor": 1
}
