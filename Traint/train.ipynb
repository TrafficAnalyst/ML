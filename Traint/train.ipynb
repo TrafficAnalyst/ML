{
 "cells": [
  {
   "cell_type": "code",
   "execution_count": 10,
   "metadata": {},
   "outputs": [],
   "source": [
    "import tensorflow as tf\n",
    "from tensorflow.keras.preprocessing.image import ImageDataGenerator\n",
    "from tensorflow.keras.preprocessing import image\n",
    "import numpy as np\n",
    "from PIL import Image\n",
    "import matplotlib.pyplot as plt"
   ]
  },
  {
   "cell_type": "code",
   "execution_count": 11,
   "metadata": {},
   "outputs": [],
   "source": [
    "train_dir = 'E:\\Kuliah\\Semester 5\\Big Data Analytics\\Coba Detect\\Eksperiment\\dataset'\n"
   ]
  },
  {
   "cell_type": "code",
   "execution_count": 12,
   "metadata": {},
   "outputs": [],
   "source": [
    "# Tentukan generator data untuk augmentasi gambar\n",
    "train_datagen = ImageDataGenerator(\n",
    "    rescale=1./255,  # Normalisasi nilai piksel gambar\n",
    "    rotation_range=20,  # Rotasi gambar dalam rentang 20 derajat\n",
    "    width_shift_range=0.2,  # Geser gambar secara horizontal sebesar 20% lebar gambar\n",
    "    height_shift_range=0.2,  # Geser gambar secara vertikal sebesar 20% tinggi gambar\n",
    "    shear_range=0.2,  # Melakukan shear transformation sebesar 20%\n",
    "    zoom_range=0.2,  # Melakukan zoom gambar sebesar 20%\n",
    "    horizontal_flip=True,  # Membalikkan gambar secara horizontal\n",
    "    fill_mode='nearest'  # Mengisi piksel yang kosong dengan piksel terdekat\n",
    ")"
   ]
  },
  {
   "cell_type": "code",
   "execution_count": 13,
   "metadata": {},
   "outputs": [
    {
     "name": "stdout",
     "output_type": "stream",
     "text": [
      "Found 1192 images belonging to 3 classes.\n"
     ]
    }
   ],
   "source": [
    "# Membuat generator data latih\n",
    "train_generator = train_datagen.flow_from_directory(\n",
    "    train_dir,\n",
    "    target_size=(150, 150),  # Menyesuaikan ukuran gambar menjadi 150x150 piksel\n",
    "    batch_size=32,  # Jumlah gambar yang digunakan dalam setiap iterasi pelatihan\n",
    "    class_mode='categorical'  # Mode kelas untuk tugas klasifikasi multikelas\n",
    ")"
   ]
  },
  {
   "cell_type": "code",
   "execution_count": 14,
   "metadata": {},
   "outputs": [],
   "source": [
    "# Membangun model\n",
    "model = tf.keras.Sequential([\n",
    "    tf.keras.layers.Conv2D(32, (3,3), activation='relu', input_shape=(150, 150, 3)),\n",
    "    tf.keras.layers.MaxPooling2D(2, 2),\n",
    "    tf.keras.layers.Conv2D(64, (3,3), activation='relu'),\n",
    "    tf.keras.layers.MaxPooling2D(2,2),\n",
    "    tf.keras.layers.Conv2D(128, (3,3), activation='relu'),\n",
    "    tf.keras.layers.MaxPooling2D(2,2),\n",
    "    tf.keras.layers.Conv2D(128, (3,3), activation='relu'),\n",
    "    tf.keras.layers.MaxPooling2D(2,2),\n",
    "    tf.keras.layers.Flatten(),\n",
    "    tf.keras.layers.Dropout(0.5),  # Menggunakan dropout untuk mengurangi overfitting\n",
    "    tf.keras.layers.Dense(512, activation='relu'),\n",
    "    tf.keras.layers.Dense(3, activation='softmax')  # Menggunakan softmax untuk output tiga kelas\n",
    "])\n"
   ]
  },
  {
   "cell_type": "code",
   "execution_count": 15,
   "metadata": {},
   "outputs": [
    {
     "name": "stderr",
     "output_type": "stream",
     "text": [
      "WARNING:absl:`lr` is deprecated in Keras optimizer, please use `learning_rate` or use the legacy optimizer, e.g.,tf.keras.optimizers.legacy.RMSprop.\n"
     ]
    }
   ],
   "source": [
    "# Mengompilasi model\n",
    "model.compile(loss='categorical_crossentropy',\n",
    "              optimizer=tf.keras.optimizers.RMSprop(lr=1e-4),\n",
    "              metrics=['accuracy'])"
   ]
  },
  {
   "cell_type": "code",
   "execution_count": 16,
   "metadata": {},
   "outputs": [
    {
     "name": "stdout",
     "output_type": "stream",
     "text": [
      "Epoch 1/10\n",
      " 38/100 [==========>...................] - ETA: 1:50 - loss: 0.8583 - accuracy: 0.6862WARNING:tensorflow:Your input ran out of data; interrupting training. Make sure that your dataset or generator can generate at least `steps_per_epoch * epochs` batches (in this case, 1000 batches). You may need to use the repeat() function when building your dataset.\n"
     ]
    },
    {
     "name": "stderr",
     "output_type": "stream",
     "text": [
      "WARNING:tensorflow:Your input ran out of data; interrupting training. Make sure that your dataset or generator can generate at least `steps_per_epoch * epochs` batches (in this case, 1000 batches). You may need to use the repeat() function when building your dataset.\n"
     ]
    },
    {
     "name": "stdout",
     "output_type": "stream",
     "text": [
      "100/100 [==============================] - 70s 669ms/step - loss: 0.8583 - accuracy: 0.6862\n"
     ]
    },
    {
     "data": {
      "text/plain": [
       "<keras.src.callbacks.History at 0x15b445eb700>"
      ]
     },
     "execution_count": 16,
     "metadata": {},
     "output_type": "execute_result"
    }
   ],
   "source": [
    "# Melatih model\n",
    "model.fit(\n",
    "    train_generator,\n",
    "    steps_per_epoch=100,  \n",
    "    epochs=10  \n",
    ")"
   ]
  },
  {
   "cell_type": "code",
   "execution_count": 17,
   "metadata": {},
   "outputs": [],
   "source": [
    "# Tentukan path ke gambar yang akan diuji\n",
    "test_image_path = 'E:\\\\Kuliah\\\\Semester 5\\\\Big Data Analytics\\\\Coba Detect\\\\Eksperiment\\\\test\\\\tes1.jpg'"
   ]
  },
  {
   "cell_type": "code",
   "execution_count": 18,
   "metadata": {},
   "outputs": [],
   "source": [
    "# Load gambar dan ubah ukurannya menjadi 150x150 piksel\n",
    "test_image = image.load_img(test_image_path, target_size=(150, 150))"
   ]
  },
  {
   "cell_type": "code",
   "execution_count": 19,
   "metadata": {},
   "outputs": [],
   "source": [
    "# Ubah gambar menjadi array numerik\n",
    "test_image_array = image.img_to_array(test_image)"
   ]
  },
  {
   "cell_type": "code",
   "execution_count": 20,
   "metadata": {},
   "outputs": [],
   "source": [
    "# Normalisasi nilai piksel gambar\n",
    "test_image_array = test_image_array / 255.0"
   ]
  },
  {
   "cell_type": "code",
   "execution_count": 21,
   "metadata": {},
   "outputs": [],
   "source": [
    "# Ubah dimensi gambar menjadi batch dengan dimensi tambahan\n",
    "test_image_array = np.expand_dims(test_image_array, axis=0)\n"
   ]
  },
  {
   "cell_type": "code",
   "execution_count": 22,
   "metadata": {},
   "outputs": [
    {
     "name": "stdout",
     "output_type": "stream",
     "text": [
      "1/1 [==============================] - 0s 220ms/step\n"
     ]
    }
   ],
   "source": [
    "# Melakukan prediksi menggunakan model\n",
    "predictions = model.predict(test_image_array)\n"
   ]
  },
  {
   "cell_type": "code",
   "execution_count": 23,
   "metadata": {},
   "outputs": [],
   "source": [
    "# Mengambil indeks kelas dengan probabilitas tertinggi\n",
    "predicted_class_index = np.argmax(predictions)\n"
   ]
  },
  {
   "cell_type": "code",
   "execution_count": 24,
   "metadata": {},
   "outputs": [],
   "source": [
    "# Mengurutkan label kelas\n",
    "class_labels = ['car', 'motorcycle', 'bicycle']"
   ]
  },
  {
   "cell_type": "code",
   "execution_count": 25,
   "metadata": {},
   "outputs": [],
   "source": [
    "# Mendapatkan label kelas yang diprediksi\n",
    "predicted_class_label = class_labels[predicted_class_index]"
   ]
  },
  {
   "cell_type": "code",
   "execution_count": 26,
   "metadata": {},
   "outputs": [
    {
     "data": {
      "image/png": "[encoded data removed]",
      "text/plain": [
       "<Figure size 640x480 with 1 Axes>"
      ]
     },
     "metadata": {},
     "output_type": "display_data"
    }
   ],
   "source": [
    "# Menampilkan gambar test\n",
    "plt.imshow(test_image)\n",
    "plt.axis('off')\n",
    "plt.title('Predicted label: ' + predicted_class_label)\n",
    "plt.show()"
   ]
  },
  {
   "cell_type": "code",
   "execution_count": 27,
   "metadata": {},
   "outputs": [],
   "source": [
    "# # Melatih model\n",
    "# model.fit(\n",
    "#     train_generator,\n",
    "#     steps_per_epoch=len(train_generator),\n",
    "#     epochs=10\n",
    "# )\n",
    "\n",
    "# # Simpan model ke file\n",
    "# model.save('model.h5')"
   ]
  }
 ],
 "metadata": {
  "kernelspec": {
   "display_name": "trainml",
   "language": "python",
   "name": "python3"
  },
  "language_info": {
   "codemirror_mode": {
    "name": "ipython",
    "version": 3
   },
   "file_extension": ".py",
   "mimetype": "text/x-python",
   "name": "python",
   "nbconvert_exporter": "python",
   "pygments_lexer": "ipython3",
   "version": "3.9.10"
  },
  "orig_nbformat": 4
 },
 "nbformat": 4,
 "nbformat_minor": 2
}
