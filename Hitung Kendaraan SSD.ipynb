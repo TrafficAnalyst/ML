{
 "cells": [
  {
   "cell_type": "code",
   "execution_count": 1,
   "metadata": {
    "id": "M3S1yj4qNiJ9",
    "outputId": "d6833926-de20-493d-f705-170f0bd70896"
   },
   "outputs": [
    {
     "name": "stdout",
     "output_type": "stream",
     "text": [
      "Load MobileNetSSD model\n"
     ]
    },
    {
     "ename": "KeyboardInterrupt",
     "evalue": "",
     "output_type": "error",
     "traceback": [
      "\u001b[1;31m---------------------------------------------------------------------------\u001b[0m",
      "\u001b[1;31mKeyboardInterrupt\u001b[0m                         Traceback (most recent call last)",
      "Cell \u001b[1;32mIn[1], line 99\u001b[0m\n\u001b[0;32m     95\u001b[0m     cv2\u001b[38;5;241m.\u001b[39mdestroyAllWindows()\n\u001b[0;32m     98\u001b[0m filename \u001b[38;5;241m=\u001b[39m \u001b[38;5;124m'\u001b[39m\u001b[38;5;124mvideo.mp4\u001b[39m\u001b[38;5;124m'\u001b[39m\n\u001b[1;32m---> 99\u001b[0m \u001b[43mVehicheDetection_UsingMobileNetSSD\u001b[49m\u001b[43m(\u001b[49m\u001b[43mfilename\u001b[49m\u001b[43m)\u001b[49m\n",
      "Cell \u001b[1;32mIn[1], line 82\u001b[0m, in \u001b[0;36mVehicheDetection_UsingMobileNetSSD\u001b[1;34m(filename)\u001b[0m\n\u001b[0;32m     80\u001b[0m frame_count \u001b[38;5;241m+\u001b[39m\u001b[38;5;241m=\u001b[39m \u001b[38;5;241m1\u001b[39m\n\u001b[0;32m     81\u001b[0m cv2\u001b[38;5;241m.\u001b[39mline(next_frame, (\u001b[38;5;241m25\u001b[39m, pos_line), (\u001b[38;5;241m1200\u001b[39m, pos_line), (\u001b[38;5;241m255\u001b[39m,\u001b[38;5;241m127\u001b[39m,\u001b[38;5;241m0\u001b[39m), \u001b[38;5;241m3\u001b[39m) \n\u001b[1;32m---> 82\u001b[0m next_frame \u001b[38;5;241m=\u001b[39m \u001b[43mprocess_frame_MobileNetSSD\u001b[49m\u001b[43m(\u001b[49m\u001b[43mnext_frame\u001b[49m\u001b[43m)\u001b[49m\n\u001b[0;32m     84\u001b[0m cv2\u001b[38;5;241m.\u001b[39mputText(next_frame, \u001b[38;5;124m\"\u001b[39m\u001b[38;5;124mKendaraan Lewat : \u001b[39m\u001b[38;5;124m\"\u001b[39m\u001b[38;5;241m+\u001b[39m\u001b[38;5;28mstr\u001b[39m(car), (\u001b[38;5;241m450\u001b[39m, \u001b[38;5;241m70\u001b[39m), cv2\u001b[38;5;241m.\u001b[39mFONT_HERSHEY_SIMPLEX, \u001b[38;5;241m2\u001b[39m, (\u001b[38;5;241m0\u001b[39m, \u001b[38;5;241m0\u001b[39m, \u001b[38;5;241m255\u001b[39m),\u001b[38;5;241m5\u001b[39m)\n\u001b[0;32m     85\u001b[0m cv2\u001b[38;5;241m.\u001b[39mimshow(\u001b[38;5;124m\"\u001b[39m\u001b[38;5;124mVideo Original\u001b[39m\u001b[38;5;124m\"\u001b[39m , next_frame)\n",
      "Cell \u001b[1;32mIn[1], line 39\u001b[0m, in \u001b[0;36mprocess_frame_MobileNetSSD\u001b[1;34m(next_frame)\u001b[0m\n\u001b[0;32m     37\u001b[0m blob \u001b[38;5;241m=\u001b[39m cv2\u001b[38;5;241m.\u001b[39mdnn\u001b[38;5;241m.\u001b[39mblobFromImage(next_frame, size\u001b[38;5;241m=\u001b[39m(\u001b[38;5;241m300\u001b[39m, \u001b[38;5;241m300\u001b[39m), ddepth\u001b[38;5;241m=\u001b[39mcv2\u001b[38;5;241m.\u001b[39mCV_8U)\n\u001b[0;32m     38\u001b[0m net\u001b[38;5;241m.\u001b[39msetInput(blob, scalefactor\u001b[38;5;241m=\u001b[39m\u001b[38;5;241m1.0\u001b[39m\u001b[38;5;241m/\u001b[39m\u001b[38;5;241m127.5\u001b[39m, mean\u001b[38;5;241m=\u001b[39m[\u001b[38;5;241m127.5\u001b[39m, \u001b[38;5;241m127.5\u001b[39m, \u001b[38;5;241m127.5\u001b[39m])\n\u001b[1;32m---> 39\u001b[0m detections \u001b[38;5;241m=\u001b[39m \u001b[43mnet\u001b[49m\u001b[38;5;241;43m.\u001b[39;49m\u001b[43mforward\u001b[49m\u001b[43m(\u001b[49m\u001b[43m)\u001b[49m\n\u001b[0;32m     41\u001b[0m \u001b[38;5;66;03m# loop over the detections\u001b[39;00m\n\u001b[0;32m     42\u001b[0m \u001b[38;5;28;01mfor\u001b[39;00m i \u001b[38;5;129;01min\u001b[39;00m np\u001b[38;5;241m.\u001b[39marange(\u001b[38;5;241m0\u001b[39m, detections\u001b[38;5;241m.\u001b[39mshape[\u001b[38;5;241m2\u001b[39m]):\n",
      "\u001b[1;31mKeyboardInterrupt\u001b[0m: "
     ]
    }
   ],
   "source": [
    "import time\n",
    "import cv2\n",
    "import numpy as np\n",
    "import math\n",
    "\n",
    "print(\"Load MobileNetSSD model\")\n",
    "\n",
    "prototxt_path = \"MobileNetSSD_deploy.prototxt\"\n",
    "model_path = \"MobileNetSSD_deploy.caffemodel\"\n",
    "\n",
    "CLASSES = [\"background\", \"aeroplane\", \"bicycle\", \"bird\", \"boat\",\n",
    "    \"bottle\", \"bus\", \"car\", \"cat\", \"chair\", \"cow\", \"diningtable\",\n",
    "    \"dog\", \"horse\", \"motorbike\", \"person\", \"pottedplant\", \"sheep\",\n",
    "    \"sofa\", \"train\", \"tvmonitor\"]\n",
    "\n",
    "net = cv2.dnn.readNetFromCaffe(prototxt_path, model_path)\n",
    "\n",
    "pos_line=550\n",
    "offset=50\n",
    "car = 0\n",
    "\n",
    "\n",
    "def center_object(x, y, w, h):\n",
    "    x1 = int(w / 2)\n",
    "    y1 = int(h / 2)\n",
    "    cx = x + x1\n",
    "    cy = y + y1\n",
    "    return cx,cy\n",
    "\n",
    "def process_frame_MobileNetSSD(next_frame):\n",
    "    global car\n",
    "    \n",
    "    rgb = cv2.cvtColor(next_frame, cv2.COLOR_BGR2RGB)\n",
    "    (H, W) = next_frame.shape[:2]\n",
    "\n",
    "\n",
    "    blob = cv2.dnn.blobFromImage(next_frame, size=(300, 300), ddepth=cv2.CV_8U)\n",
    "    net.setInput(blob, scalefactor=1.0/127.5, mean=[127.5, 127.5, 127.5])\n",
    "    detections = net.forward()\n",
    "\n",
    "    # loop over the detections\n",
    "    for i in np.arange(0, detections.shape[2]):\n",
    "        \n",
    "        confidence = detections[0, 0, i, 2]\n",
    "        \n",
    "        if confidence > 0.1:\n",
    "            \n",
    "            idx = int(detections[0, 0, i, 1])\n",
    "            if CLASSES[idx] != \"car\":\n",
    "                continue\n",
    "                \n",
    "            label = CLASSES[idx]\n",
    "\n",
    "            box = detections[0, 0, i, 3:7] * np.array([W, H, W, H])\n",
    "            (startX, startY, endX, endY) = box.astype(\"int\")\n",
    "            \n",
    "            center_ob = center_object(startX, startY, endX-startX, endY-startY)\n",
    "            cv2.circle(next_frame, center_ob, 4, (0, 0,255), -1)\n",
    "            \n",
    "            if center_ob[1]<(pos_line+offset) and center_ob[1]>(pos_line-offset):\n",
    "                car+=1\n",
    "            \n",
    "            cv2.putText(next_frame, label+' '+str(round(confidence,2)), (startX, startY-10), cv2.FONT_HERSHEY_SIMPLEX, 1, (0, 0, 255),2)\n",
    "            cv2.rectangle(next_frame, (startX, startY), (endX, endY), (0, 255, 0), 3)\n",
    "\n",
    "    return next_frame\n",
    "\n",
    "def VehicheDetection_UsingMobileNetSSD(filename):\n",
    "    cap = cv2.VideoCapture(filename)\n",
    "    global car\n",
    "\n",
    "    frame_count = 0\n",
    "\n",
    "\n",
    "    while True:\n",
    "        ret, next_frame = cap.read() \n",
    "        \n",
    "        if ret == False: break\n",
    "\n",
    "        frame_count += 1\n",
    "        cv2.line(next_frame, (25, pos_line), (1200, pos_line), (255,127,0), 3) \n",
    "        next_frame = process_frame_MobileNetSSD(next_frame)\n",
    "\n",
    "        cv2.putText(next_frame, \"Kendaraan Lewat : \"+str(car), (450, 70), cv2.FONT_HERSHEY_SIMPLEX, 2, (0, 0, 255),5)\n",
    "        cv2.imshow(\"Video Original\" , next_frame)\n",
    "        \n",
    "        if cv2.waitKey(1) & 0xFF == ord('q'): \n",
    "            break\n",
    "\n",
    "\n",
    "    print(\"/MobileNetSSD Car Detector\")\n",
    "\n",
    "\n",
    "    cap.release()\n",
    "    cv2.destroyAllWindows()\n",
    "\n",
    "\n",
    "filename = 'video.mp4'\n",
    "VehicheDetection_UsingMobileNetSSD(filename)"
   ]
  },
  {
   "cell_type": "code",
   "execution_count": null,
   "metadata": {
    "id": "eItXBrRmNiKL"
   },
   "outputs": [],
   "source": []
  }
 ],
 "metadata": {
  "colab": {
   "name": "Hitung Kendaraan SSD.ipynb",
   "provenance": []
  },
  "kernelspec": {
   "display_name": "Python 3 (ipykernel)",
   "language": "python",
   "name": "python3"
  },
  "language_info": {
   "codemirror_mode": {
    "name": "ipython",
    "version": 3
   },
   "file_extension": ".py",
   "mimetype": "text/x-python",
   "name": "python",
   "nbconvert_exporter": "python",
   "pygments_lexer": "ipython3",
   "version": "3.9.0rc1"
  }
 },
 "nbformat": 4,
 "nbformat_minor": 1
}
